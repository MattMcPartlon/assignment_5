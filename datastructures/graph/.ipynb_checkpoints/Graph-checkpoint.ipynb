{
 "cells": [
  {
   "cell_type": "code",
   "execution_count": null,
   "metadata": {},
   "outputs": [],
   "source": [
    "from abc import ABC, abstractmethod\n",
    "class Graph(ABC):\n",
    "    def __init__(self):\n",
    "        self.vertices = set()\n",
    "        self.edges = []\n",
    "        self.adjs = {}\n",
    "\n",
    "    @abstractmethod\n",
    "    def add_vertex(self, v, *args, **kwargs):\n",
    "        \"\"\"\n",
    "        should call super().add_vertex(v) in implementing\n",
    "        class for consistency\n",
    "        \"\"\"\n",
    "        assert isinstance(v, Vertex)\n",
    "        if v not in self.vertices:\n",
    "            self.vertices[v] = None\n",
    "            self.adjs[v] = AdjacencyList()\n",
    "        else:\n",
    "            raise Exception('vertex : ', str(v), ' is already in this graph')\n",
    "\n",
    "    @abstractmethod\n",
    "    def add_edge(self, e):\n",
    "        \"\"\"\n",
    "        should call super().add_edge(e) in implementing\n",
    "        class for consistency\n",
    "        \"\"\"\n",
    "        assert isinstance(e, Edge)\n",
    "        (u, v) = e.get_endpoints()\n",
    "        assert u in self.vertices\n",
    "        assert v in self.vertices\n",
    "\n",
    "        self.add_adjacency(u, v)\n",
    "        if not e.is_directed():\n",
    "            self.add_adjacency(v, u)\n",
    "        self.edges.append(e)\n",
    "    \n",
    "    def n(self):\n",
    "        return len(self.vertices)\n",
    "    \n",
    "    def m(self):\n",
    "        return len(self.edges)\n",
    "    \n",
    "    def is_connected(self):\n",
    "        \"\"\"\n",
    "        returns true if and only if the graph \n",
    "        consists of one connected component\n",
    "        \"\"\"\n",
    "        #TODO\n",
    "        pass\n",
    "\n",
    "    def get_vertices(self):\n",
    "        return [v for v in self.vertices]\n",
    "\n",
    "    def get_edges(self):\n",
    "        return [e for e in self.edges]\n",
    "    \n",
    "    def get_neighbors(self, u):\n",
    "        return self.adj[u].get_adjacencies()\n",
    "    \n",
    "    def adjacentQ(self,u,v):\n",
    "        return v in self.adj[u]\n",
    "\n",
    "    def add_adjacency(self, u, v):\n",
    "        if v not in self.adj[u]:\n",
    "            self.adj[u].add_adjacency(v)\n",
    "        else:\n",
    "            raise Exception('adjacency from u : ', str(u), ' to v : ', str(v),\n",
    "                            ' already exists!')\n",
    "            \n",
    "    def Complement(self):\n",
    "        \"\"\"\n",
    "        Returns a graph which is the complement of this graph\n",
    "        \"\"\"\n",
    "        #TODO\n",
    "        pass\n",
    "\n",
    "    \n",
    "\n",
    "    \n",
    "    \n",
    "    "
   ]
  }
 ],
 "metadata": {
  "kernelspec": {
   "display_name": "Python 3",
   "language": "python",
   "name": "python3"
  },
  "language_info": {
   "codemirror_mode": {
    "name": "ipython",
    "version": 3
   },
   "file_extension": ".py",
   "mimetype": "text/x-python",
   "name": "python",
   "nbconvert_exporter": "python",
   "pygments_lexer": "ipython3",
   "version": "3.6.9"
  },
  "varInspector": {
   "cols": {
    "lenName": 16,
    "lenType": 16,
    "lenVar": 40
   },
   "kernels_config": {
    "python": {
     "delete_cmd_postfix": "",
     "delete_cmd_prefix": "del ",
     "library": "var_list.py",
     "varRefreshCmd": "print(var_dic_list())"
    },
    "r": {
     "delete_cmd_postfix": ") ",
     "delete_cmd_prefix": "rm(",
     "library": "var_list.r",
     "varRefreshCmd": "cat(var_dic_list()) "
    }
   },
   "types_to_exclude": [
    "module",
    "function",
    "builtin_function_or_method",
    "instance",
    "_Feature"
   ],
   "window_display": false
  }
 },
 "nbformat": 4,
 "nbformat_minor": 2
}

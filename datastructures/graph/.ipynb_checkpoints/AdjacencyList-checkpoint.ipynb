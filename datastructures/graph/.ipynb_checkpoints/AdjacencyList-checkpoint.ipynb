{
 "cells": [
  {
   "cell_type": "code",
   "execution_count": 3,
   "metadata": {
    "ExecuteTime": {
     "end_time": "2020-01-23T16:03:28.271881Z",
     "start_time": "2020-01-23T16:03:28.267451Z"
    }
   },
   "outputs": [],
   "source": [
    "from abc import ABC, abstractmethod\n",
    "import Vertex\n",
    "\n",
    "class AdjacencyList(ABC):\n",
    "    \n",
    "    def __init__(self):\n",
    "        self.adj = #TODO\n",
    "        \n",
    "    def __contains__(self, u):\n",
    "        \"\"\"\n",
    "        returns true iff u is a member of this adjacency list\n",
    "        allows for use of 'in' operator, e.g. (syntactically)\n",
    "        'u in adj_list' will return True iff u is a member of this list\n",
    "        \"\"\"\n",
    "        \n",
    "    def __len__(self):\n",
    "        \"\"\"\n",
    "        returns the length of the list (e.g. number of vertices)\n",
    "        \"\"\"\n",
    "        \n",
    "    def add(self, u):\n",
    "        \"\"\"\n",
    "        Adds u to the adjacency list\n",
    "        raises exception if the list already contains u,\n",
    "        or if u does not stem from the Vertex base class\n",
    "        \"\"\"\n",
    "        assert isinstance(u, Vertex)\n",
    "        \n",
    "        \n",
    "    def remove(self, u):\n",
    "        \"\"\"\n",
    "        removes u from the adjacency list\n",
    "        raises assertion error if u is not a member of this list\n",
    "        \"\"\"\n",
    "        assert self.contains(u)\n",
    "        pass\n",
    "        \n",
    "    def get_adjacencies(self):\n",
    "        \"\"\"\n",
    "        should return an enumerable object containing all objects in adjacency list\n",
    "        \"\"\"\n",
    "        pass\n",
    "    \n",
    "        "
   ]
  },
  {
   "cell_type": "code",
   "execution_count": null,
   "metadata": {
    "ExecuteTime": {
     "end_time": "2020-01-23T16:15:18.304967Z",
     "start_time": "2020-01-23T16:15:18.299152Z"
    }
   },
   "outputs": [],
   "source": []
  },
  {
   "cell_type": "code",
   "execution_count": null,
   "metadata": {},
   "outputs": [],
   "source": []
  }
 ],
 "metadata": {
  "kernelspec": {
   "display_name": "Python 3",
   "language": "python",
   "name": "python3"
  },
  "language_info": {
   "codemirror_mode": {
    "name": "ipython",
    "version": 3
   },
   "file_extension": ".py",
   "mimetype": "text/x-python",
   "name": "python",
   "nbconvert_exporter": "python",
   "pygments_lexer": "ipython3",
   "version": "3.6.9"
  },
  "varInspector": {
   "cols": {
    "lenName": 16,
    "lenType": 16,
    "lenVar": 40
   },
   "kernels_config": {
    "python": {
     "delete_cmd_postfix": "",
     "delete_cmd_prefix": "del ",
     "library": "var_list.py",
     "varRefreshCmd": "print(var_dic_list())"
    },
    "r": {
     "delete_cmd_postfix": ") ",
     "delete_cmd_prefix": "rm(",
     "library": "var_list.r",
     "varRefreshCmd": "cat(var_dic_list()) "
    }
   },
   "types_to_exclude": [
    "module",
    "function",
    "builtin_function_or_method",
    "instance",
    "_Feature"
   ],
   "window_display": false
  }
 },
 "nbformat": 4,
 "nbformat_minor": 2
}
